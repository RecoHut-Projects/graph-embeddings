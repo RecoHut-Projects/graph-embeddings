{
  "cells": [
    {
      "cell_type": "markdown",
      "metadata": {
        "id": "_HI35Mx_lKSv"
      },
      "source": [
        "# Splitter\n",
        "\n",
        "> Is a Single Embedding Enough? Learning Node Representations that Capture Multiple Social Contexts"
      ]
    },
    {
      "cell_type": "markdown",
      "metadata": {
        "id": "u59y59dmlRi7"
      },
      "source": [
        "## Abstract\n",
        "\n",
        "*Recent interest in graph embedding methods has focused on learning a single representation for each node in the graph. But can nodes really be best described by a single vector representation? In this work, we propose a method for learning multiple representations of the nodes in a graph (e.g., the users of a social network). Based on a principled decomposition of the ego-network, each representation encodes the role of the node in a different local community in which the nodes participate. These representations allow for improved reconstruction of the nuanced relationships that occur in the graph -- a phenomenon that we illustrate through state-of-the-art results on link prediction tasks on a variety of graphs, reducing the error by up to 90%. In addition, we show that these embeddings allow for effective visual analysis of the learned community structure.*\n",
        "\n",
        "## References\n",
        "\n",
        "1. [https://github.com/google-research/google-research/tree/master/graph_embedding/persona](https://github.com/google-research/google-research/tree/master/graph_embedding/persona)\n",
        "2. [https://github.com/benedekrozemberczki/Splitter](https://github.com/benedekrozemberczki/Splitter)"
      ]
    }
  ],
  "metadata": {
    "colab": {
      "name": "C779816_Splitter.ipynb",
      "toc_visible": true
    },
    "kernelspec": {
      "display_name": "Python 3",
      "name": "python3"
    }
  },
  "nbformat": 4,
  "nbformat_minor": 0
}
