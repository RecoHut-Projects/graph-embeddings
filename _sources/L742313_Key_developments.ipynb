{
  "cells": [
    {
      "cell_type": "markdown",
      "metadata": {
        "id": "oPSwRRIzSl_c"
      },
      "source": [
        "# Key developments"
      ]
    },
    {
      "cell_type": "markdown",
      "metadata": {
        "id": "gpimahtRS9vM"
      },
      "source": [
        "<p><center><figure><img src='_images/L742313_1.png'><figcaption>Timeline of key developments in bipartite graph embedding for the recommendation. source.</figcaption></figure></center></p>"
      ]
    },
    {
      "cell_type": "markdown",
      "metadata": {
        "id": "octbnNm8S9s5"
      },
      "source": [
        "<p><center><figure><img src='_images/L742313_2.png'><figcaption>Timeline of key developments in general graph embedding for the recommendation. source.</figcaption></figure></center></p>"
      ]
    },
    {
      "cell_type": "markdown",
      "metadata": {
        "id": "-syi7no5S9qx"
      },
      "source": [
        "<p><center><figure><img src='_images/L742313_3.png'><figcaption>Timeline of key developments in knowledge graph embedding for the recommendation. source.</figcaption></figure></center></p>"
      ]
    }
  ],
  "metadata": {
    "colab": {
      "collapsed_sections": [],
      "name": "L742313_Key_developments.ipynb",
      "toc_visible": true
    },
    "kernelspec": {
      "display_name": "Python 3",
      "name": "python3"
    }
  },
  "nbformat": 4,
  "nbformat_minor": 0
}
