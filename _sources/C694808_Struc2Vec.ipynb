{
  "cells": [
    {
      "cell_type": "markdown",
      "metadata": {
        "id": "1ZEqDirBkuxi"
      },
      "source": [
        "# Struc2Vec\n",
        "\n",
        "> Learning Node Representations from Structural Identity"
      ]
    },
    {
      "cell_type": "markdown",
      "metadata": {
        "id": "KMJRAOVKk0l2"
      },
      "source": [
        "## Abstract\n",
        "\n",
        "*Structural identity is a concept of symmetry in which network nodes are identied according to the network structure and their relationship to other nodes. Structural identity has been studied in theory and practice over the past decades, but only recently has it been addressed with representational learning techniques. is work presents struc2vec, a novel and exible framework for learning latent representations for the structural identity of nodes. struc2vec uses a hierarchy to measure node similarity at dierent scales, and constructs a multilayer graph to encode structural similarities and generate structural context for nodes. Numerical experiments indicate that state-of-the-art techniques for learning node representations fail in capturing stronger notions of structural identity, while struc2vec exhibits much superior performance in this task, as it overcomes limitations of prior approaches. As a consequence, numerical experiments indicate that struc2vec improves performance on classication tasks that depend more on structural identity.*"
      ]
    }
  ],
  "metadata": {
    "colab": {
      "name": "C694808_Struc2Vec.ipynb",
      "toc_visible": true
    },
    "kernelspec": {
      "display_name": "Python 3",
      "name": "python3"
    }
  },
  "nbformat": 4,
  "nbformat_minor": 0
}
