{
  "cells": [
    {
      "cell_type": "markdown",
      "metadata": {
        "id": "dYd6OGNbWwZe"
      },
      "source": [
        "# Random walk"
      ]
    },
    {
      "cell_type": "markdown",
      "metadata": {
        "id": "mAJhSThLXcQt"
      },
      "source": [
        "The term \"random walk\" was first mentioned by Karl Pearson in 1905 in a letter to Nature magazine titled **[The Problem of the Random Walk](https://www.nature.com/physics/looking-back/pearson/index.html)**. Study of random walks date back even further to the **[Gambler’s ruin](https://en.wikipedia.org/wiki/Gambler%27s_ruin)** problem, where it could be used to show that a gambler would eventually go bankrupt against an opponent with infinite wealth. It’s only in the last couple of decades, however, that researchers have studied them with respect to networks."
      ]
    },
    {
      "cell_type": "markdown",
      "metadata": {
        "id": "2N6Eq4nXXeBk"
      },
      "source": [
        "<p><center><img src='_images/L991141_1.png'></center></p>"
      ]
    },
    {
      "cell_type": "markdown",
      "metadata": {
        "id": "P9mp07SDXgMN"
      },
      "source": [
        "Random Walk is an algorithm that provides random paths in a graph. A random walk means that we start at one node, choose a neighbor to navigate to at random or based on a provided probability distribution, and then do the same from that node, keeping the resulting path in a list. It’s similar to how a drunk person traverses a city."
      ]
    },
    {
      "cell_type": "markdown",
      "metadata": {
        "id": "pzKkGgdQXhub"
      },
      "source": [
        "<p><center><figure><img src='_images/L991141_2.png'><figcaption>An overview of the pipeline for random-walk graph embedding methods.</figcaption></figure></center></p>"
      ]
    },
    {
      "cell_type": "markdown",
      "metadata": {
        "id": "cCJInqCXXiQC"
      },
      "source": [
        "## References\n",
        "\n",
        "1. [https://www.mit.edu/~kardar/teaching/projects/chemotaxis(AndreaSchmidt)/random.htm](https://www.mit.edu/~kardar/teaching/projects/chemotaxis(AndreaSchmidt)/random.htm)\n",
        "2. [What is a Random Walk? | Infinite Series](https://youtu.be/stgYW6M5o4k)"
      ]
    }
  ],
  "metadata": {
    "colab": {
      "name": "L991141_Random_walk.ipynb",
      "toc_visible": true
    },
    "kernelspec": {
      "display_name": "Python 3",
      "name": "python3"
    }
  },
  "nbformat": 4,
  "nbformat_minor": 0
}
