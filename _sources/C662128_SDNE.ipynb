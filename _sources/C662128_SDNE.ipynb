{
  "cells": [
    {
      "cell_type": "markdown",
      "metadata": {
        "id": "MnQ-N2rmfrjR"
      },
      "source": [
        "# SDNE\n",
        "\n",
        "> Structural Deep Network Embedding"
      ]
    },
    {
      "cell_type": "markdown",
      "metadata": {
        "id": "gOPGiOoCgj5E"
      },
      "source": [
        "## Abstract\n",
        "\n",
        "*Network embedding is an important method to learn low-dimensional representations of vertexes in networks, aiming to capture and preserve the network structure. Almost all the existing network embedding methods adopt shallow models. However, since the underlying network structure is complex, shallow models cannot capture the highly non-linear network structure, resulting in sub-optimal network representations. Therefore, how to find a method that is able to effectively capture the highly non-linear network structure and preserve the global and local structure is an open yet important problem. To solve this problem, in this paper we propose a Structural Deep Network Embedding method, namely SDNE. More specifically, we first propose a semi-supervised deep model, which has multiple layers of non-linear functions, thereby being able to capture the highly non-linear network structure. Then we propose to exploit the first-order and second-order proximity jointly to preserve the network structure. The second-order proximity is used by the unsupervised component to capture the global network structure. While the first-order proximity is used as the supervised information in the supervised component to preserve the local network structure. By jointly optimizing them in the semi-supervised deep model, our method can preserve both the local and global network structure and is robust to sparse networks. Empirically, we conduct the experiments on five real-world networks, including a language network, a citation network and three social networks. The results show that compared to the baselines, our method can reconstruct the original network significantly better and achieves substantial gains in three applications,*"
      ]
    },
    {
      "cell_type": "markdown",
      "metadata": {
        "id": "MgrTEh5yg1z8"
      },
      "source": [
        "<p><center><figure><img src='_images/C662128_1.png'><figcaption>The framework of the semi-supervised deep model of SDNE.</figcaption></figure></center></p>"
      ]
    },
    {
      "cell_type": "markdown",
      "metadata": {
        "id": "mTs238pQguhZ"
      },
      "source": [
        "## References\n",
        "\n",
        "[https://github.com/shenweichen/GraphEmbedding](https://github.com/shenweichen/GraphEmbedding)"
      ]
    }
  ],
  "metadata": {
    "colab": {
      "name": "C662128_SDNE.ipynb",
      "toc_visible": true
    },
    "kernelspec": {
      "display_name": "Python 3",
      "name": "python3"
    }
  },
  "nbformat": 4,
  "nbformat_minor": 0
}
