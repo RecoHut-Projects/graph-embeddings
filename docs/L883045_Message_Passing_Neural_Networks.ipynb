{
  "nbformat": 4,
  "nbformat_minor": 0,
  "metadata": {
    "colab": {
      "name": "L883045 | Message Passing Neural Networks",
      "provenance": [],
      "authorship_tag": "ABX9TyPK0zIxZm5ldW6PW1YlAAMm"
    },
    "kernelspec": {
      "name": "python3",
      "display_name": "Python 3"
    },
    "language_info": {
      "name": "python"
    }
  },
  "cells": [
    {
      "cell_type": "markdown",
      "metadata": {
        "id": "zLJwp8ztdLt4"
      },
      "source": [
        "# Message Passing Neural Networks"
      ]
    },
    {
      "cell_type": "markdown",
      "metadata": {
        "id": "d2iEKteadPFT"
      },
      "source": [
        "One of the first work on this topic was published by Duvenaud et al. (2015). He defined the model as a stack of differentiable layers where each layer is another round of passing the messages. He used the message passing architecture to extract valuable information from graph molecules and then transform it into a single feature vector. At that time, his work was groundbreaking because he made the architecture differentiable. It was de-facto one of the first convolutional neural network architectures that could operate on graphs.\n",
        "\n",
        "Another attempt on this architecture was done by Li et al. (2016). Here, they focus on the sequential output from graphs, for example finding an optimal path in graph. To achieve that, they embedded GRU (Gated Recurrent Unit) into their algorithm.\n",
        "\n",
        "Although these algorithms seem to be quite different, they have the same underlying concept in common which is a message passing between nodes in the graph. We will next see how those models can be combined into a single framework."
      ]
    },
    {
      "cell_type": "markdown",
      "metadata": {
        "id": "1SD5qTdIdXcN"
      },
      "source": [
        "<p><center><figure><img src='_images/L883045_1.png'><figcaption>A very simple example of message passing architecture for node V1. In this case a message is a sum of neighbour’s hidden states. The update function is an average between a message m and h1.</figcaption></figure></center></p>"
      ]
    },
    {
      "cell_type": "markdown",
      "metadata": {
        "id": "_faSo4wMdQiA"
      },
      "source": [
        "## References\n",
        "1. [Simple Message Passing on Graphs](https://youtu.be/ijmxpItkRjc)"
      ]
    }
  ]
}