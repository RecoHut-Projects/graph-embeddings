{
  "nbformat": 4,
  "nbformat_minor": 0,
  "metadata": {
    "colab": {
      "name": "L742313 | Key developments",
      "provenance": [],
      "collapsed_sections": [],
      "authorship_tag": "ABX9TyPJSAek6R6k55e3xV3h5145"
    },
    "kernelspec": {
      "name": "python3",
      "display_name": "Python 3"
    },
    "language_info": {
      "name": "python"
    }
  },
  "cells": [
    {
      "cell_type": "markdown",
      "metadata": {
        "id": "oPSwRRIzSl_c"
      },
      "source": [
        "# Key developments"
      ]
    },
    {
      "cell_type": "markdown",
      "metadata": {
        "id": "gpimahtRS9vM"
      },
      "source": [
        "<p><center><figure><img src='_images/L742313_1.png'><figcaption>Timeline of key developments in bipartite graph embedding for the recommendation. source.</figcaption></figure></center></p>"
      ]
    },
    {
      "cell_type": "markdown",
      "metadata": {
        "id": "octbnNm8S9s5"
      },
      "source": [
        "<p><center><figure><img src='_images/L742313_2.png'><figcaption>Timeline of key developments in general graph embedding for the recommendation. source.</figcaption></figure></center></p>"
      ]
    },
    {
      "cell_type": "markdown",
      "metadata": {
        "id": "-syi7no5S9qx"
      },
      "source": [
        "<p><center><figure><img src='_images/L742313_3.png'><figcaption>Timeline of key developments in knowledge graph embedding for the recommendation. source.</figcaption></figure></center></p>"
      ]
    }
  ]
}