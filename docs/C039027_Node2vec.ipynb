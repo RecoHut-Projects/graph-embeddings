{
  "nbformat": 4,
  "nbformat_minor": 0,
  "metadata": {
    "colab": {
      "name": "C039027 | Node2vec : Scalable Feature Learning for Networks",
      "provenance": [],
      "authorship_tag": "ABX9TyON6SHXeD70B2RfnCQcDdYG"
    },
    "kernelspec": {
      "name": "python3",
      "display_name": "Python 3"
    },
    "language_info": {
      "name": "python"
    }
  },
  "cells": [
    {
      "cell_type": "markdown",
      "metadata": {
        "id": "qIzBPCbbhcTX"
      },
      "source": [
        "# Node2vec\n",
        "\n",
        "> Scalable Feature Learning for Networks"
      ]
    },
    {
      "cell_type": "markdown",
      "metadata": {
        "id": "FpRP9UzehjRk"
      },
      "source": [
        "Nodes in networks could be organized based on communities they belong to (i.e., homophily); in other cases, the organization could be based on the structural roles of nodes in the network (i.e., structural equivalence). For instance, in the below figure, we observe nodes $u$ and $s_1$ belonging to the same tightly knit community of nodes, while the nodes $u$ and $s_6$ in the two distinct communities share the same structural role of a hub node. Real-world networks commonly exhibit a mixture of such equivalences."
      ]
    },
    {
      "cell_type": "markdown",
      "metadata": {
        "id": "dBgexbIEhqlz"
      },
      "source": [
        "<p><center><figure><img src='_images/C039027_1.png'><figcaption>BFS and DFS search strategies from node u (k = 3).</figcaption></figure></center></p>"
      ]
    },
    {
      "cell_type": "markdown",
      "metadata": {
        "id": "q9zrwxjVh1Z9"
      },
      "source": [
        "The node2vec framework learns low-dimensional representations for nodes in a graph by optimizing a neighborhood preserving objective. The objective is flexible, and the algorithm accommodates for various definitions of network neighborhoods by simulating biased random walks. Specifically, it provides a way of balancing the exploration-exploitation tradeoff that in turn leads to representations obeying a spectrum of equivalences from homophily to structural equivalence.\n",
        "\n",
        "Node2vec is a graph embedding method that comprehensively considers the DFS neighborhood and the BFS neighborhood. Simply put, it can be seen as an extension of deep walk, which combines DFS and BFS random walk.\n",
        "\n",
        "Node2Vec extends the skip-gram architecture to networks by maximizing the log-probability of observing a network neighborhood $\\mathcal{N}_S(u)$ for a node $u$ conditioned on its feature representation given by f:\n",
        "\n",
        "$$\\max_f \\sum_{u \\in V}logP(N_S(u) \\vert f(u))$$"
      ]
    },
    {
      "cell_type": "markdown",
      "metadata": {
        "id": "LGf_MOQXhqdN"
      },
      "source": [
        "## References\n",
        "\n",
        "1. [PyTorch Geometric (2021) [Source code]](https://pytorch-geometric.readthedocs.io/en/latest/modules/nn.html?highlight=node2vec#torch_geometric.nn.models.Node2Vec)\n",
        "2. [https://github.com/shenweichen/GraphEmbedding](https://github.com/shenweichen/GraphEmbedding) (2020) [Source code]\n",
        "3. [https://github.com/benedekrozemberczki/karateclub](https://github.com/benedekrozemberczki/karateclub) (2021) [Source code]\n",
        "4. [https://github.com/eliorc/node2vec](https://github.com/eliorc/node2vec) (2021) [Source code]\n",
        "5. http://snap.stanford.edu/node2vec"
      ]
    }
  ]
}