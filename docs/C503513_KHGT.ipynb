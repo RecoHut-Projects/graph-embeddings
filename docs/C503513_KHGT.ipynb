{
  "nbformat": 4,
  "nbformat_minor": 0,
  "metadata": {
    "colab": {
      "name": "C503513 | KHGT: Knowledge-Enhanced Hierarchical Graph Transformer Network for Multi-Behavior Recommendation",
      "provenance": [],
      "authorship_tag": "ABX9TyOYYnSpjAk/PmxNay0b0Cul"
    },
    "kernelspec": {
      "name": "python3",
      "display_name": "Python 3"
    },
    "language_info": {
      "name": "python"
    }
  },
  "cells": [
    {
      "cell_type": "markdown",
      "metadata": {
        "id": "WWkVHquqo3XV"
      },
      "source": [
        "# KHGT\n",
        "\n",
        "> Knowledge-Enhanced Hierarchical Graph Transformer Network for Multi-Behavior Recommendation"
      ]
    },
    {
      "cell_type": "markdown",
      "metadata": {
        "id": "QMLlf4_KpB1-"
      },
      "source": [
        "## Abstract\n",
        "\n",
        "*Accurate user and item embedding learning is crucial for modern recommender systems. However, most existing recommendation techniques have thus far focused on modeling users' preferences over singular type of user-item interactions. Many practical recommendation scenarios involve multi-typed user interactive behaviors (e.g., page view, add-to-favorite and purchase), which presents unique challenges that cannot be handled by current recommendation solutions. In particular: i) complex inter-dependencies across different types of user behaviors; ii) the incorporation of knowledge-aware item relations into the multi-behavior recommendation framework; iii) dynamic characteristics of multi-typed user-item interactions. To tackle these challenges, this work proposes a Knowledge-Enhanced Hierarchical Graph Transformer Network (KHGT), to investigate multi-typed interactive patterns between users and items in recommender systems. Specifically, KHGT is built upon a graph-structured neural architecture to i) capture type-specific behavior characteristics; ii) explicitly discriminate which types of user-item interactions are more important in assisting the forecasting task on the target behavior. Additionally, we further integrate the graph attention layer with the temporal encoding strategy, to empower the learned embeddings be reflective of both dedicated multiplex user-item and item-item relations, as well as the underlying interaction dynamics. Extensive experiments conducted on three real-world datasets show that KHGT consistently outperforms many state-of-the-art recommendation methods across various evaluation settings.*"
      ]
    },
    {
      "cell_type": "markdown",
      "metadata": {
        "id": "m1NAlJBnpRe_"
      },
      "source": [
        "<p><center><img src='_images/C503513_1.png'></center></p>"
      ]
    },
    {
      "cell_type": "markdown",
      "metadata": {
        "id": "rGYrlgvCpBz1"
      },
      "source": [
        "## Task Formulation\n",
        "\n",
        "We formulate the knowledge-aware multi-behavior recommendation:\n",
        "\n",
        "- Input: the user-item multi-behavior interaction graph $G_u$ and the knowledge-aware item-item relation graph $G_v$.\n",
        "- Output: a predictive model which effectively infers the probability $y_{i,j}$ of unseen interaction between user $u_i$ and item $v_j$ under the target behavior type of $k$."
      ]
    },
    {
      "cell_type": "markdown",
      "metadata": {
        "id": "1y3BJ6ezpBxR"
      },
      "source": [
        "## References\n",
        "\n",
        "1. [https://github.com/akaxlh/khgt](https://github.com/akaxlh/khgt)"
      ]
    }
  ]
}